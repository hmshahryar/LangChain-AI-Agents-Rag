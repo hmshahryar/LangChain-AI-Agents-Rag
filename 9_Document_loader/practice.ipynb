{
 "cells": [
  {
   "cell_type": "code",
   "execution_count": 16,
   "id": "ea6f7b25",
   "metadata": {},
   "outputs": [
    {
     "data": {
      "text/plain": [
       "[Document(metadata={'source': 'https://www.tripadvisor.com/Airline_Review-d8729039-Reviews-British-Airways', 'title': 'tripadvisor.com', 'description': 'No description found.', 'language': 'en'}, page_content='')]"
      ]
     },
     "execution_count": 16,
     "metadata": {},
     "output_type": "execute_result"
    }
   ],
   "source": [
    "from langchain_community.document_loaders import SeleniumURLLoader\n",
    "from langchain.text_splitter import RecursiveCharacterTextSplitter\n",
    "\n",
    "# Dynamic URL\n",
    "urls = [\"https://www.tripadvisor.com/Airline_Review-d8729039-Reviews-British-Airways\"]\n",
    "loader = SeleniumURLLoader(urls=urls)\n",
    "\n",
    "# Load document(s)\n",
    "docs = loader.load()\n",
    "\n",
    "# ✅ Check if any documents were loaded\n",
    "docs\n"
   ]
  },
  {
   "cell_type": "code",
   "execution_count": 15,
   "id": "7e5159cd",
   "metadata": {},
   "outputs": [
    {
     "name": "stdout",
     "output_type": "stream",
     "text": [
      "[]\n"
     ]
    }
   ],
   "source": [
    "print(chunks)"
   ]
  }
 ],
 "metadata": {
  "kernelspec": {
   "display_name": "DS-ML",
   "language": "python",
   "name": "python3"
  },
  "language_info": {
   "codemirror_mode": {
    "name": "ipython",
    "version": 3
   },
   "file_extension": ".py",
   "mimetype": "text/x-python",
   "name": "python",
   "nbconvert_exporter": "python",
   "pygments_lexer": "ipython3",
   "version": "3.9.21"
  }
 },
 "nbformat": 4,
 "nbformat_minor": 5
}
